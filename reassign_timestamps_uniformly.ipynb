{
 "cells": [
  {
   "cell_type": "code",
   "execution_count": null,
   "metadata": {},
   "outputs": [],
   "source": [
    "import json\n",
    "\n",
    "# Load the JSON file into variable \"data\"\n",
    "with open('data_entries.json', 'r', encoding='UTF-8') as file:\n",
    "    data = json.load(file)"
   ]
  },
  {
   "cell_type": "code",
   "execution_count": null,
   "metadata": {},
   "outputs": [],
   "source": [
    "import json\n",
    "from datetime import datetime, timedelta\n",
    "\n",
    "# Process each participant-task entry\n",
    "for entry in data:\n",
    "    data_points = entry[\"data\"]\n",
    "\n",
    "    if not data_points:\n",
    "        continue  \n",
    "\n",
    "    # Get the first timestamp and handle invalid cases\n",
    "    first_timestamp_str = data_points[0][-1]  # Last column because missing data only contains the \"empty timestamp\"\n",
    "    if first_timestamp_str == \"00:00:00\": # The \"empty timestamp\"\n",
    "        continue  # Skip this entry as timestamps are invalid\n",
    "\n",
    "    try:\n",
    "        first_timestamp = datetime.strptime(first_timestamp_str, \"%H:%M:%S.%f\")\n",
    "    except ValueError:\n",
    "        print(f\"Skipping invalid timestamp format in participant {entry['participant']} task {entry['task']}\")\n",
    "        continue\n",
    "\n",
    "    # Reassign timestamps uniformly (5ms apart = 200hz sampling)\n",
    "    for i, point in enumerate(data_points):\n",
    "        new_timestamp = first_timestamp + timedelta(milliseconds=5 * i)\n",
    "        point[-1] = new_timestamp.strftime(\"%H:%M:%S.%f\")[:-3]  # Keep milliseconds\n",
    "\n",
    "# Save the updated JSON file with a new name\n",
    "new_filename = \"data_entries_ti_uniform.json\"\n",
    "with open(new_filename, \"w\") as f:\n",
    "    json.dump(data, f, indent=4)\n",
    "\n",
    "print(f\"Saved updated dataset as {new_filename}\")\n",
    "\n"
   ]
  }
 ],
 "metadata": {
  "kernelspec": {
   "display_name": "datasciencecourses",
   "language": "python",
   "name": "python3"
  },
  "language_info": {
   "name": "python",
   "version": "3.9.13"
  }
 },
 "nbformat": 4,
 "nbformat_minor": 2
}
